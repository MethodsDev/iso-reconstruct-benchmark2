{
 "cells": [
  {
   "cell_type": "code",
   "execution_count": null,
   "id": "8bbf5c7f-be6c-42c3-931f-19b7e48b311e",
   "metadata": {
    "editable": true,
    "slideshow": {
     "slide_type": ""
    },
    "tags": [
     "parameters"
    ]
   },
   "outputs": [],
   "source": [
    "# this cell is tagged parameters\n",
    "\n",
    "PYLIB_DIR = None\n",
    "\n",
    "########################\n",
    "# inputs for quant-only\n",
    "########################\n",
    "\n",
    "# Reference info\n",
    "REF_gtf_file = None\n",
    "REF_quant_file = None\n",
    "REF_reduced_gtf_file = None\n",
    "\n",
    "# Predictions\n",
    "FLAMES_gtf_file = None\n",
    "FLAMES_quant_file = None\n",
    "\n",
    "IsoQuant_gtf_file = None\n",
    "IsoQuant_quant_file = None\n",
    "\n",
    "IsoSeq_gtf_file = None\n",
    "IsoSeq_quant_file = None\n",
    "\n",
    "LRAA_gtf_file = None\n",
    "LRAA_quant_file = None\n",
    "\n",
    "Mandalorion_gtf_file = None\n",
    "Mandalorion_quant_file = None\n",
    "\n",
    "Bambu_gtf_file = None\n",
    "Bambu_quant_file = None\n",
    "\n",
    "ESPRESSO_gtf_file = None\n",
    "ESPRESSO_quant_file = None\n",
    "\n",
    "FLAIR_gtf_file = None\n",
    "FLAIR_quant_file = None\n",
    "\n",
    "Isosceles_gtf_file = None\n",
    "Isosceles_quant_file = None\n",
    "\n",
    "StringTie_gtf_file = None\n",
    "StringTie_quant_file = None\n",
    "\n",
    "TALON_gtf_file = None\n",
    "TALON_quant_file = None\n",
    "\n",
    "# for de-novo Venn mode - not counting non-unique non-reference splice patterns as FPs\n",
    "IGNORE_NONUNIQUE_NONREF = False"
   ]
  },
  {
   "cell_type": "code",
   "execution_count": null,
   "id": "b9678016-8734-4be2-9b1f-2574b484a180",
   "metadata": {},
   "outputs": [],
   "source": [
    "import sys, os, re\n",
    "sys.path.insert(0, PYLIB_DIR)"
   ]
  },
  {
   "cell_type": "code",
   "execution_count": null,
   "id": "aad5c292-543f-4c69-b7ba-2977bdb07c10",
   "metadata": {},
   "outputs": [],
   "source": [
    "import BenchmarkingRoutines\n",
    "from importlib import reload\n",
    "reload(BenchmarkingRoutines)\n",
    "from BenchmarkingRoutines import *"
   ]
  },
  {
   "cell_type": "code",
   "execution_count": null,
   "id": "e9e08237-44f8-4666-9b82-da77bbc525cb",
   "metadata": {},
   "outputs": [],
   "source": [
    "import warnings\n",
    "warnings.filterwarnings('ignore')"
   ]
  },
  {
   "cell_type": "code",
   "execution_count": null,
   "id": "8f924bf7-b5df-4900-bbce-c88740f332e6",
   "metadata": {},
   "outputs": [],
   "source": [
    "\n",
    "set_color_palette(\"FLAMES\", \"gainsboro\", \"solid\")\n",
    "set_color_palette(\"IsoQuant\", \"blue\", \"solid\")\n",
    "set_color_palette(\"IsoSeq\", \"orchid\", \"solid\")\n",
    "set_color_palette(\"LRAA\", \"teal\", \"solid\")\n",
    "set_color_palette(\"Mandalorion\", \"lightblue\", \"solid\")\n",
    "set_color_palette(\"ESPRESSO\", \"brown\", \"solid\")\n",
    "set_color_palette(\"Bambu\", \"forestgreen\", \"solid\")\n",
    "set_color_palette(\"FLAIR\", \"pink\", \"solid\")\n",
    "set_color_palette(\"Isosceles\", \"red\", \"solid\")\n",
    "set_color_palette(\"StringTie\", \"aquamarine\", \"solid\")\n",
    "set_color_palette(\"TALON\", \"orange\", \"solid\")\n"
   ]
  },
  {
   "cell_type": "code",
   "execution_count": null,
   "id": "1eef827f-814c-4d86-83a4-e39de5ba06a9",
   "metadata": {},
   "outputs": [],
   "source": [
    "include_strand_in_intronId=False\n",
    "\n",
    "i_ref_df = indexDfByIntronId(parseGTFtoIntronIDsandQuants(REF_gtf_file, REF_quant_file, include_strand_in_intronId=include_strand_in_intronId))\n",
    "i_ref_df"
   ]
  },
  {
   "cell_type": "code",
   "execution_count": null,
   "id": "60705a7f-9662-4967-8c16-b728880961a2",
   "metadata": {},
   "outputs": [],
   "source": [
    "i_ref_df[\"tpm\"] = i_ref_df[\"tpm\"] / i_ref_df[\"tpm\"].sum() * 1e6"
   ]
  },
  {
   "cell_type": "code",
   "execution_count": null,
   "id": "d0859498-956e-4f93-a6f8-67fd9848aea0",
   "metadata": {},
   "outputs": [],
   "source": [
    "downsampled_gtf = REF_reduced_gtf_file\n",
    "i_downsampled_gtf_df = indexDfByIntronId(parseGTFtoIntronIDs(downsampled_gtf, include_strand=include_strand_in_intronId))\n",
    "i_downsampled_gtf_df['downsampled'] = True\n"
   ]
  },
  {
   "cell_type": "code",
   "execution_count": null,
   "id": "9fcfc38d-9af7-41fb-839d-18b17253c93d",
   "metadata": {},
   "outputs": [],
   "source": [
    "i_ref_df = i_ref_df.join(i_downsampled_gtf_df['downsampled'])\n",
    "i_ref_df.fillna(False, inplace=True)"
   ]
  },
  {
   "cell_type": "code",
   "execution_count": null,
   "id": "ef47fb98-597b-4975-a79c-ba33fda16e21",
   "metadata": {},
   "outputs": [],
   "source": [
    "i_ref_df.head()"
   ]
  },
  {
   "cell_type": "code",
   "execution_count": null,
   "id": "3b310b60-443b-4626-9415-1299d4b7d976",
   "metadata": {},
   "outputs": [],
   "source": [
    "i_ref_df.copy().reset_index().to_csv(\"refDf.intron_ids_and_expression.tsv\", sep=\"\\t\", index=False)"
   ]
  },
  {
   "cell_type": "code",
   "execution_count": null,
   "id": "d608968e-0f50-46dd-ba52-c2e4388f4579",
   "metadata": {
    "editable": true,
    "slideshow": {
     "slide_type": ""
    },
    "tags": []
   },
   "outputs": [],
   "source": [
    "downsampled_quant_files_dir = \"processed_prog_results\"\n",
    "downsampled_gtf_files_dir =  \"raw_prog_results\"\n",
    "\n",
    "prog_quant_files = {  \n",
    "    \"FLAMES\" : [FLAMES_quant_file, FLAMES_gtf_file],\n",
    "    \"IsoQuant\" : [IsoQuant_quant_file, IsoQuant_gtf_file],\n",
    "    \"IsoSeq\" : [IsoSeq_quant_file, IsoSeq_gtf_file],\n",
    "    \"LRAA\" : [LRAA_quant_file, LRAA_gtf_file ],\n",
    "    \"Mandalorion\" : [Mandalorion_quant_file, Mandalorion_gtf_file],\n",
    "    \"ESPRESSO\" : [ESPRESSO_quant_file, ESPRESSO_gtf_file],\n",
    "    \"FLAIR\" : [FLAIR_quant_file, FLAIR_gtf_file],\n",
    "    \"Isosceles\" : [Isosceles_quant_file, Isosceles_gtf_file],\n",
    "    \"Bambu\" : [Bambu_quant_file, Bambu_gtf_file],\n",
    "    \"StringTie\" : [StringTie_quant_file, StringTie_gtf_file],\n",
    "    \"TALON\" : [TALON_quant_file, TALON_gtf_file]\n",
    "}\n",
    "    \n",
    "downsampled_dict = {}\n",
    "for progname, (tsv_fname, gtf_fname) in prog_quant_files.items():\n",
    "    \n",
    "    if tsv_fname is None:\n",
    "        continue\n",
    "    \n",
    "    print(progname, gtf_fname, tsv_fname)\n",
    "    downsampled_dict[progname] = indexDfByIntronId(parseGTFtoIntronIDsandQuants(gtf_fname, tsv_fname, \n",
    "                                                                                include_strand_in_intronId=include_strand_in_intronId))\n",
    " \n",
    "\n",
    "progname_to_i_sample_df_dict_to_tsv(downsampled_dict, \"progname_to_IntronId_expr_vals.tsv\")"
   ]
  },
  {
   "cell_type": "code",
   "execution_count": null,
   "id": "d4ab4b35-89c9-4882-aa06-24f459439bc6",
   "metadata": {},
   "outputs": [],
   "source": [
    "scatterplot_adj(i_ref_df, downsampled_dict)"
   ]
  },
  {
   "cell_type": "code",
   "execution_count": null,
   "id": "f5e1e716-dfe3-4f07-970b-5ea76027d059",
   "metadata": {},
   "outputs": [],
   "source": [
    "spearman_df = cor_spearman_barplot(i_ref_df, downsampled_dict)\n",
    "spearman_df.to_csv(\"spearman_expr_cor.tsv\", sep=\"\\t\", quoting=csv.QUOTE_NONE)"
   ]
  },
  {
   "cell_type": "code",
   "execution_count": null,
   "id": "e96b0bc5-2335-4eff-a17b-20e1db7634b1",
   "metadata": {},
   "outputs": [],
   "source": [
    "pearson_df = cor_pearson_barplot(i_ref_df, downsampled_dict)\n",
    "pearson_df.to_csv(\"pearson_expr_cor.tsv\", sep=\"\\t\", quoting=csv.QUOTE_NONE)"
   ]
  },
  {
   "cell_type": "code",
   "execution_count": null,
   "id": "c5a01986-24a3-4d85-95a4-d78983aa2ebc",
   "metadata": {},
   "outputs": [],
   "source": [
    "median_rel_diff_df = rel_diff_barplot(i_ref_df, downsampled_dict, 'median')\n",
    "median_rel_diff_df.to_csv(\"median_rel_diff.tsv\", sep=\"\\t\", quoting=csv.QUOTE_NONE)"
   ]
  },
  {
   "cell_type": "code",
   "execution_count": null,
   "id": "79d5c616-cb44-44d7-8f45-e7986ccee272",
   "metadata": {},
   "outputs": [],
   "source": [
    "mean_rel_diff_df = rel_diff_barplot(i_ref_df, downsampled_dict, 'mean')\n",
    "mean_rel_diff_df.to_csv(\"mean_rel_diff.tsv\", sep=\"\\t\", quoting=csv.QUOTE_NONE)"
   ]
  },
  {
   "cell_type": "code",
   "execution_count": null,
   "id": "1ee5e21a-095e-4cf5-98c1-031923c4d60b",
   "metadata": {},
   "outputs": [],
   "source": [
    "rel_diff_vs_expr_percentile_plot(i_ref_df, downsampled_dict, 33, 'median',\n",
    "                                 'all ref-reduced sets, all ref transcripts')"
   ]
  },
  {
   "cell_type": "code",
   "execution_count": null,
   "id": "5944ab23-6998-412e-baf1-055ff469f7fd",
   "metadata": {},
   "outputs": [],
   "source": [
    "rel_diff_vs_expr_percentile_plot(i_ref_df, downsampled_dict, 33, 'mean',\n",
    "                                 'all ref-reduced sets, all ref transcripts')"
   ]
  },
  {
   "cell_type": "code",
   "execution_count": null,
   "id": "397538d6-721d-459f-b31f-5ad5f87c9e86",
   "metadata": {},
   "outputs": [],
   "source": [
    "downsampled_kept_intron_ids = i_ref_df[i_ref_df['downsampled'] == False].index"
   ]
  },
  {
   "cell_type": "code",
   "execution_count": null,
   "id": "b3ca29e0-3e5c-4119-b431-faf5e6562fc3",
   "metadata": {},
   "outputs": [],
   "source": [
    "rel_diff_vs_expr_percentile_plot(i_ref_df, downsampled_dict, 33, 'median', \n",
    "                                 'downsampled reduced sets, kept transcripts only', \n",
    "                                intron_ids_use = downsampled_kept_intron_ids)"
   ]
  },
  {
   "cell_type": "code",
   "execution_count": null,
   "id": "ec72581b-5605-4a5e-a106-f6f5f15ff4ba",
   "metadata": {},
   "outputs": [],
   "source": [
    "# identify those isoforms that are non-reference and non-unique and remove them from the predictions so they don't count as FPs.\n",
    "if IGNORE_NONUNIQUE_NONREF:\n",
    "    # Step 1: Combine all DataFrames with program labels\n",
    "    all_dfs = []\n",
    "    for progname, df in downsampled_dict.items():\n",
    "        df_copy = df.copy()\n",
    "        df_copy['source_program'] = progname\n",
    "        all_dfs.append(df_copy)\n",
    "\n",
    "    combined_df = pd.concat(all_dfs)\n",
    "\n",
    "\n",
    "    # Step 2: Filter to intronIds appearing at least twice\n",
    "    intron_counts = combined_df.index.value_counts()\n",
    "    common_introns = intron_counts[intron_counts > 1].index\n",
    "\n",
    "    # Find intronIds in result_df that are NOT in i_ref_df\n",
    "    intron_ids_to_exclude = result_df.index.difference(i_ref_df.index)\n",
    "    print(f\"Found {len(intron_ids_to_exclude)} non-ref intronIds to not count as FPs\")\n",
    "\n",
    "    for progname, df in downsampled_dict.items():\n",
    "        downsampled_dict[progname] = df[~df.index.isin(intron_ids_to_exclude)]\n",
    "\n"
   ]
  },
  {
   "cell_type": "code",
   "execution_count": null,
   "id": "54dd9dd7-4242-4248-a81b-1800dcc098a7",
   "metadata": {},
   "outputs": [],
   "source": [
    "IsoformIdentificationSensitivityPlot(i_ref_df, downsampled_dict, 33, 'median', 'downsampled set')"
   ]
  },
  {
   "cell_type": "code",
   "execution_count": null,
   "id": "543ded7c-1f45-455f-aa5b-31b29f977bea",
   "metadata": {},
   "outputs": [],
   "source": [
    "IsoformIdentificationSensitivityPlot(i_ref_df, downsampled_dict, 33, 'median', 'downsampled set', downsampled_kept_intron_ids)"
   ]
  },
  {
   "cell_type": "code",
   "execution_count": null,
   "id": "ccb03a82-6b00-4a98-a12e-d4f71f1130ef",
   "metadata": {},
   "outputs": [],
   "source": [
    "full_transcriptome_TPR_FDR_F1_df, all_TP_FP_FN_df = overall_knownTPR_novelTPR_and_FDR_barplot(i_ref_df, downsampled_dict)\n",
    "full_transcriptome_TPR_FDR_F1_df.to_csv(\"full_transcriptome_TPR_FDR_F1.tsv\", sep=\"\\t\", quoting=csv.QUOTE_NONE)\n",
    "all_TP_FP_FN_df.to_csv(\"full_transcriptome_TPR_FDR_F1.class_assignments.tsv\", sep=\"\\t\", quoting=csv.QUOTE_NONE)"
   ]
  },
  {
   "cell_type": "code",
   "execution_count": null,
   "id": "06ef983d-3093-44bb-a793-87985f023bc2",
   "metadata": {},
   "outputs": [],
   "source": [
    "known_and_novel_TPR_FDR_F1_df, novel_TP_FP_FN_df = overall_knownTPR_novelTPR_and_FDR_barplot(i_ref_df, downsampled_dict, downsampled_kept_intron_ids)\n",
    "known_and_novel_TPR_FDR_F1_df.to_csv(\"known_and_novel_TPR_FDR_F1.tsv\", sep=\"\\t\", quoting=csv.QUOTE_NONE)\n",
    "novel_TP_FP_FN_df.to_csv(\"novel_TPR_FDR_F1.class_assignments.tsv\", sep=\"\\t\", quoting=csv.QUOTE_NONE)"
   ]
  },
  {
   "cell_type": "code",
   "execution_count": null,
   "id": "6ee487ac-17ff-45cb-927c-f6a07181c193",
   "metadata": {},
   "outputs": [],
   "source": [
    "TPR_F1_PPV_plot(i_ref_df, downsampled_dict)"
   ]
  },
  {
   "cell_type": "code",
   "execution_count": null,
   "id": "2ee2fbcc-d9dd-4bd7-b878-68e1c9303f7f",
   "metadata": {},
   "outputs": [],
   "source": [
    "TPR_F1_PPV_plot(i_ref_df, downsampled_dict, novel_intron_ids=downsampled_kept_intron_ids)"
   ]
  },
  {
   "cell_type": "code",
   "execution_count": null,
   "id": "af7b36b7-f0ad-46bf-b9f9-98e966a306ce",
   "metadata": {},
   "outputs": [],
   "source": []
  }
 ],
 "metadata": {
  "kernelspec": {
   "display_name": "Python 3 (ipykernel)",
   "language": "python",
   "name": "python3"
  },
  "language_info": {
   "codemirror_mode": {
    "name": "ipython",
    "version": 3
   },
   "file_extension": ".py",
   "mimetype": "text/x-python",
   "name": "python",
   "nbconvert_exporter": "python",
   "pygments_lexer": "ipython3",
   "version": "3.12.9"
  }
 },
 "nbformat": 4,
 "nbformat_minor": 5
}
