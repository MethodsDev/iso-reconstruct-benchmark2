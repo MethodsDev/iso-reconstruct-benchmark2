{
 "cells": [
  {
   "cell_type": "code",
   "execution_count": 1,
   "id": "3ba6d0a9-6af5-4c40-8dd4-f0cdeb39dac9",
   "metadata": {
    "tags": [
     "parameters"
    ]
   },
   "outputs": [],
   "source": [
    "# this cell is tagged parameters\n",
    "\n",
    "PYLIB_DIR = None\n",
    "\n",
    "########################\n",
    "# inputs for quant-only\n",
    "########################\n",
    "\n",
    "# Reference info\n",
    "REF_gtf_file = None\n",
    "REF_quant_file = None\n",
    "\n",
    "# Predictions\n",
    "FLAMES_gtf_file = None\n",
    "FLAMES_quant_file = None\n",
    "\n",
    "IsoQuant_quant_file = None\n",
    "\n",
    "IsoSeq_gtf_file = None\n",
    "IsoSeq_quant_file = None\n",
    "\n",
    "LRAA_quant_file = None\n",
    "\n",
    "Mandalorion_gtf_file = None\n",
    "Mandalorion_quant_file = None\n",
    "\n",
    "Oarfish_align_quant_file = None\n",
    "\n",
    "Oarfish_reads_quant_file = None\n",
    "\n",
    "Bambu_quant_file = None\n",
    "\n",
    "ESPRESSO_quant_file = None\n",
    "\n",
    "FLAIR_quant_file = None\n",
    "\n",
    "Isosceles_gtf_file = None\n",
    "Isosceles_quant_file = None\n",
    "\n",
    "StringTie_quant_file = None\n",
    "\n",
    "TALON_gtf_file = None\n",
    "TALON_quant_file = None"
   ]
  },
  {
   "cell_type": "code",
   "execution_count": null,
   "id": "c245d2b2-3be4-41ce-9936-33187e158a3e",
   "metadata": {},
   "outputs": [],
   "source": [
    "import sys, os, re\n",
    "sys.path.insert(0, PYLIB_DIR)\n"
   ]
  },
  {
   "cell_type": "code",
   "execution_count": null,
   "id": "86d3a20f-74a7-4556-bd9c-eb67e6029a86",
   "metadata": {},
   "outputs": [],
   "source": [
    "import BenchmarkingRoutines\n",
    "from importlib import reload\n",
    "reload(BenchmarkingRoutines)\n",
    "from BenchmarkingRoutines import *"
   ]
  },
  {
   "cell_type": "code",
   "execution_count": null,
   "id": "68cc1d73-7595-4b3c-8d67-1107abeb9533",
   "metadata": {},
   "outputs": [],
   "source": [
    "import warnings\n",
    "warnings.filterwarnings('ignore')"
   ]
  },
  {
   "cell_type": "code",
   "execution_count": null,
   "id": "d65c64a1-dbba-4d8f-a0fa-679d7fcdea35",
   "metadata": {},
   "outputs": [],
   "source": [
    "# colors for plots\n",
    "set_color_palette(\"FLAMES\", \"gainsboro\", \"solid\")\n",
    "set_color_palette(\"IsoQuant\", \"blue\", \"solid\")\n",
    "set_color_palette(\"IsoSeq\", \"orchid\", \"solid\")\n",
    "set_color_palette(\"LRAA\", \"teal\", \"solid\")\n",
    "set_color_palette(\"Mandalorion\", \"lightblue\", \"solid\")\n",
    "set_color_palette(\"Oarfish_align\", \"khaki\", \"solid\")\n",
    "set_color_palette(\"Oarfish_reads\", \"peachpuff\", \"solid\")\n",
    "set_color_palette(\"Bambu\", \"forestgreen\", \"solid\")\n",
    "set_color_palette(\"ESPRESSO\", \"brown\", \"solid\")\n",
    "set_color_palette(\"FLAIR\", \"pink\", \"solid\")\n",
    "set_color_palette(\"Isosceles\", \"red\", \"solid\")\n",
    "set_color_palette(\"StringTie\", \"aquamarine\", \"solid\")\n",
    "set_color_palette(\"TALON\", \"orange\", \"solid\")\n"
   ]
  },
  {
   "cell_type": "code",
   "execution_count": null,
   "id": "396512ef-d524-4354-999e-d44cc9d88834",
   "metadata": {},
   "outputs": [],
   "source": [
    "\n",
    "i_ref_df = indexDfByIntronId(parseGTFtoIntronIDsandQuants(REF_gtf_file, REF_quant_file))\n",
    "i_ref_df"
   ]
  },
  {
   "cell_type": "code",
   "execution_count": null,
   "id": "c53bff00-ee82-4a4e-b1af-5cd883950b6c",
   "metadata": {},
   "outputs": [],
   "source": [
    " i_ref_df[\"tpm\"] = i_ref_df[\"tpm\"] / i_ref_df[\"tpm\"].sum() * 1e6"
   ]
  },
  {
   "cell_type": "code",
   "execution_count": null,
   "id": "d6b97d97-5b8a-47e0-9e3a-1d89f34eae05",
   "metadata": {},
   "outputs": [],
   "source": [
    "i_ref_df.copy().reset_index().to_csv(\"refDf.intron_ids_and_expression.tsv\", sep=\"\\t\", index=False)"
   ]
  },
  {
   "cell_type": "code",
   "execution_count": null,
   "id": "619ba242-ef90-4fea-8f6f-2c2ec5780cf8",
   "metadata": {},
   "outputs": [],
   "source": [
    "quant_only_dir = \"processed_prog_results\"\n",
    "\n",
    "prog_quant_files = {  \n",
    "    \"FLAMES\" : [FLAMES_quant_file, FLAMES_gtf_file],\n",
    "    \"IsoQuant\" : [IsoQuant_quant_file, REF_gtf_file],\n",
    "    \"IsoSeq\" : [IsoSeq_quant_file, IsoSeq_gtf_file],\n",
    "    \"LRAA\" : [LRAA_quant_file, REF_gtf_file ],\n",
    "    \"Mandalorion\" : [Mandalorion_quant_file, Mandalorion_gtf_file],\n",
    "    \"Oarfish_align\" : [Oarfish_align_quant_file, REF_gtf_file],\n",
    "    \"Oarfish_reads\" : [Oarfish_reads_quant_file, REF_gtf_file],\n",
    "    \"ESPRESSO\" : [ESPRESSO_quant_file, REF_gtf_file],\n",
    "    \"FLAIR\" : [FLAIR_quant_file, REF_gtf_file],\n",
    "    \"Isosceles\" : [Isosceles_quant_file, Isosceles_gtf_file],\n",
    "    \"Bambu\" : [Bambu_quant_file, REF_gtf_file],\n",
    "    \"StringTie\" : [StringTie_quant_file, REF_gtf_file],\n",
    "    \"TALON\" : [TALON_quant_file, TALON_gtf_file]\n",
    "}\n",
    "\n",
    "\n",
    "fullQuantsDf_dict = {}\n",
    "for progname, (tsv_fname, gtf_fname) in prog_quant_files.items():\n",
    "    if tsv_fname is None:\n",
    "        continue\n",
    "\n",
    "    print(progname, tsv_fname, gtf_fname)\n",
    "    fullQuantsDf_dict[progname] = indexDfByIntronId(parseGTFtoIntronIDsandQuants(gtf_fname, tsv_fname))\n",
    "\n",
    "\n",
    "progname_to_i_sample_df_dict_to_tsv(fullQuantsDf_dict, \"progname_to_IntronId_expr_vals.tsv\")"
   ]
  },
  {
   "cell_type": "code",
   "execution_count": null,
   "id": "873fbeac-4eb3-4017-bfc1-69a3d8c0214f",
   "metadata": {},
   "outputs": [],
   "source": [
    "scatterplot_adj(i_ref_df, fullQuantsDf_dict)"
   ]
  },
  {
   "cell_type": "code",
   "execution_count": null,
   "id": "6dc23745-b37d-4a43-a3be-4f50d9b1fb62",
   "metadata": {},
   "outputs": [],
   "source": [
    "ma_plot_adj(i_ref_df, fullQuantsDf_dict)"
   ]
  },
  {
   "cell_type": "code",
   "execution_count": null,
   "id": "515d189b-adfb-4ef9-879c-32540cd26721",
   "metadata": {},
   "outputs": [],
   "source": [
    "spearman_df = cor_spearman_barplot(i_ref_df, fullQuantsDf_dict)\n",
    "spearman_df.to_csv(\"spearman_expr_cor.tsv\", sep=\"\\t\", quoting=csv.QUOTE_NONE)"
   ]
  },
  {
   "cell_type": "code",
   "execution_count": null,
   "id": "6ec29705-a13f-450f-844b-304608fb87b7",
   "metadata": {},
   "outputs": [],
   "source": [
    "pearson_df = cor_pearson_barplot(i_ref_df, fullQuantsDf_dict)\n",
    "pearson_df.to_csv(\"pearson_expr_cor.tsv\", sep=\"\\t\", quoting=csv.QUOTE_NONE)"
   ]
  },
  {
   "cell_type": "code",
   "execution_count": null,
   "id": "ab3cb812-94e2-40e5-bf55-e812d70bc4af",
   "metadata": {},
   "outputs": [],
   "source": [
    "median_rel_diff_df = rel_diff_barplot(i_ref_df, fullQuantsDf_dict, 'median')\n",
    "median_rel_diff_df.to_csv(\"median_rel_diff.tsv\", sep=\"\\t\", quoting=csv.QUOTE_NONE)"
   ]
  },
  {
   "cell_type": "code",
   "execution_count": null,
   "id": "66e23392-5aae-44d1-adf4-2a0613a8e3fe",
   "metadata": {},
   "outputs": [],
   "source": [
    "mean_rel_diff_df = rel_diff_barplot(i_ref_df, fullQuantsDf_dict, 'mean')\n",
    "mean_rel_diff_df.to_csv(\"mean_rel_diff.tsv\", sep=\"\\t\", quoting=csv.QUOTE_NONE)"
   ]
  },
  {
   "cell_type": "code",
   "execution_count": null,
   "id": "a9ba0128-9d12-4de9-ae99-ba810be9dc2f",
   "metadata": {},
   "outputs": [],
   "source": [
    "rel_diff_vs_expr_percentile_plot(i_ref_df, fullQuantsDf_dict, 33, 'median',\n",
    "                                 'all ref-reduced sets, all ref transcripts')"
   ]
  },
  {
   "cell_type": "code",
   "execution_count": null,
   "id": "04b8cd37-1aea-4a38-8b31-85cf8a3a9841",
   "metadata": {},
   "outputs": [],
   "source": []
  }
 ],
 "metadata": {
  "kernelspec": {
   "display_name": "Python 3 (ipykernel)",
   "language": "python",
   "name": "python3"
  },
  "language_info": {
   "codemirror_mode": {
    "name": "ipython",
    "version": 3
   },
   "file_extension": ".py",
   "mimetype": "text/x-python",
   "name": "python",
   "nbconvert_exporter": "python",
   "pygments_lexer": "ipython3",
   "version": "3.10.4"
  }
 },
 "nbformat": 4,
 "nbformat_minor": 5
}
